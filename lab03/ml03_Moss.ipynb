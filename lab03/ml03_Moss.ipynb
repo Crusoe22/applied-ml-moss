{
 "cells": [
  {
   "cell_type": "markdown",
   "metadata": {},
   "source": [
    "# Nolan Moss Titanic Data\n",
    "**Author:** Nolan Moss \n",
    "**Date:** 03, 2026, 2025  \n",
    "**Objective:** Edit, manipulate, and split titanic dataset add bonus Iris data set"
   ]
  }
 ],
 "metadata": {
  "language_info": {
   "name": "python"
  }
 },
 "nbformat": 4,
 "nbformat_minor": 2
}
